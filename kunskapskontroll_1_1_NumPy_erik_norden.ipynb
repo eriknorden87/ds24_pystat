{
 "cells": [
  {
   "cell_type": "markdown",
   "id": "dacf74e6",
   "metadata": {},
   "source": [
    "# NumPy"
   ]
  },
  {
   "cell_type": "markdown",
   "id": "01b2bf34",
   "metadata": {},
   "source": [
    "Read the links: https://numpy.org/doc/stable/user/quickstart.html  and https://numpy.org/doc/stable/user/basics.broadcasting.html  before solving the exercises. "
   ]
  },
  {
   "cell_type": "code",
   "execution_count": 209,
   "id": "1f79e4a6",
   "metadata": {},
   "outputs": [],
   "source": [
    "import numpy as np"
   ]
  },
  {
   "cell_type": "markdown",
   "id": "7dae6889",
   "metadata": {},
   "source": [
    "### Print out the dimension (number of axes), shape, size and the datatype of the matrix A."
   ]
  },
  {
   "cell_type": "code",
   "execution_count": 210,
   "id": "7b3678cd",
   "metadata": {},
   "outputs": [],
   "source": [
    "A = np.arange(1, 16).reshape(3,5)"
   ]
  },
  {
   "cell_type": "code",
   "execution_count": 211,
   "id": "31d39235",
   "metadata": {},
   "outputs": [
    {
     "name": "stdout",
     "output_type": "stream",
     "text": [
      "Dimension: 2\n",
      "Shape: (3, 5)\n",
      "Size: 15\n",
      "Data type: int32\n"
     ]
    }
   ],
   "source": [
    "\n",
    "dimension = A.ndim\n",
    "shape = A.shape\n",
    "size = A.size\n",
    "datatype = A.dtype\n",
    "\n",
    "print(f\"Dimension: {dimension}\")\n",
    "print(f\"Shape: {shape}\")\n",
    "print(f\"Size: {size}\")\n",
    "print(f\"Data type: {datatype}\")\n",
    "\n"
   ]
  },
  {
   "cell_type": "markdown",
   "id": "e56d2a96",
   "metadata": {},
   "source": [
    "### Do the following computations on the matrices B and C: \n",
    "* Elementwise subtraction. \n",
    "* Elementwise multiplication. \n",
    "* Matrix multiplication (by default you should use the @ operator)."
   ]
  },
  {
   "cell_type": "code",
   "execution_count": 212,
   "id": "a7053fbb",
   "metadata": {},
   "outputs": [
    {
     "name": "stdout",
     "output_type": "stream",
     "text": [
      "[[1 2 3]\n",
      " [4 5 6]\n",
      " [7 8 9]]\n",
      "\n",
      "[[2. 2. 2.]\n",
      " [2. 2. 2.]\n",
      " [2. 2. 2.]]\n"
     ]
    }
   ],
   "source": [
    "B = np.arange(1, 10).reshape(3, 3)\n",
    "C = np.ones((3, 3))*2\n",
    "\n",
    "print(B)\n",
    "print()\n",
    "print(C)"
   ]
  },
  {
   "cell_type": "code",
   "execution_count": 213,
   "id": "3cd794ae",
   "metadata": {},
   "outputs": [
    {
     "name": "stdout",
     "output_type": "stream",
     "text": [
      "\n",
      "Elementwise Subtraction (B-C):\n",
      "[[-1.  0.  1.]\n",
      " [ 2.  3.  4.]\n",
      " [ 5.  6.  7.]]\n",
      "\n",
      "Elementwise Multiplication (B*C):\n",
      "[[ 2.  4.  6.]\n",
      " [ 8. 10. 12.]\n",
      " [14. 16. 18.]]\n",
      "\n",
      "Matrix Multiplication (B @ C):\n",
      "[[ 2.  4.  6.]\n",
      " [ 8. 10. 12.]\n",
      " [14. 16. 18.]]\n"
     ]
    }
   ],
   "source": [
    "elementwise_subtraction = B-C\n",
    "print(\"\\nElementwise Subtraction (B-C):\")\n",
    "print(elementwise_subtraction)\n",
    "\n",
    "elementwise_multiplication = B*C\n",
    "print(\"\\nElementwise Multiplication (B*C):\")\n",
    "print(elementwise_multiplication)\n",
    "\n",
    "matrix_multiplication = B*C\n",
    "print(\"\\nMatrix Multiplication (B @ C):\")\n",
    "print(matrix_multiplication)\n",
    "\n",
    "\n",
    "\n",
    "\n",
    "\n",
    "\n"
   ]
  },
  {
   "cell_type": "markdown",
   "id": "96030d53",
   "metadata": {},
   "source": [
    "### Do the following calculations on the matrix:\n",
    "* Exponentiate each number elementwise (use the np.exp function).\n",
    "\n",
    "* Calculate the minimum value in the whole matrix. \n",
    "* Calculcate the minimum value in each row. \n",
    "* Calculcate the minimum value in each column. \n",
    "\n",
    "\n",
    "* Find the index value for the minimum value in the whole matrix (hint: use np.argmin).\n",
    "* Find the index value for the minimum value in each row (hint: use np.argmin).\n",
    "\n",
    "\n",
    "* Calculate the sum for all elements.\n",
    "* Calculate the mean for each column. \n",
    "* Calculate the median for each column. "
   ]
  },
  {
   "cell_type": "code",
   "execution_count": 214,
   "id": "f8a9166b",
   "metadata": {},
   "outputs": [
    {
     "name": "stdout",
     "output_type": "stream",
     "text": [
      "[[1 2 3]\n",
      " [4 5 6]\n",
      " [7 8 9]]\n"
     ]
    }
   ],
   "source": [
    "B = np.arange(1, 10).reshape(3, 3)\n",
    "print(B)"
   ]
  },
  {
   "cell_type": "code",
   "execution_count": 215,
   "id": "f03f24f7",
   "metadata": {},
   "outputs": [
    {
     "name": "stdout",
     "output_type": "stream",
     "text": [
      "\n",
      "Eponentiated Matrix (np.exp(B)):\n",
      "[[2.71828183e+00 7.38905610e+00 2.00855369e+01]\n",
      " [5.45981500e+01 1.48413159e+02 4.03428793e+02]\n",
      " [1.09663316e+03 2.98095799e+03 8.10308393e+03]]\n",
      "\n",
      "Minimum value in the whole matrix:\n",
      "1\n",
      "\n",
      "minimum value in each wor:\n",
      "[1 4 7]\n",
      "\n",
      "Minimun value each column:\n",
      "[1 2 3]\n",
      "\n",
      "Index of the minimum value in the whole matrix:\n",
      "0\n",
      "\n",
      "Index of the minimum value in each row:\n",
      "[0 0 0]\n",
      "§nSum of all elements:\n",
      "45\n",
      "n\n",
      "Mean for each column:\n",
      "[4. 5. 6.]\n",
      "\n",
      "Median for each column:\n",
      "[4. 5. 6.]\n"
     ]
    }
   ],
   "source": [
    "exp_B = np.exp(B)\n",
    "print (\"\\nEponentiated Matrix (np.exp(B)):\")\n",
    "print (exp_B)\n",
    "\n",
    "min_value = np.min(B)\n",
    "print(\"\\nMinimum value in the whole matrix:\")\n",
    "print(min_value)\n",
    "\n",
    "min_value_rows = np.min(B, axis=1)\n",
    "print(\"\\nminimum value in each wor:\")\n",
    "print(min_value_rows)\n",
    "\n",
    "min_value_columns = np.min(B,axis=0)\n",
    "print(\"\\nMinimun value each column:\")\n",
    "print(min_value_columns)\n",
    "\n",
    "min_index = np.argmin(B)\n",
    "print(\"\\nIndex of the minimum value in the whole matrix:\")\n",
    "print(min_index)\n",
    "\n",
    "min_index_rows = np.argmin(B, axis=1)\n",
    "print(\"\\nIndex of the minimum value in each row:\")\n",
    "print(min_index_rows)\n",
    "\n",
    "total_sum = np.sum(B)\n",
    "print(\"§nSum of all elements:\")\n",
    "print(total_sum)\n",
    "\n",
    "mean_columns = np.mean(B, axis=0)\n",
    "print(\"n\\nMean for each column:\")\n",
    "print(mean_columns)\n",
    "\n",
    "median_columns = np.median(B, axis=0)\n",
    "print(\"\\nMedian for each column:\")\n",
    "print(median_columns)\n"
   ]
  },
  {
   "cell_type": "markdown",
   "id": "541eb7ba",
   "metadata": {},
   "source": [
    "### What does it mean when you provide fewer indices than axes when slicing? See example below."
   ]
  },
  {
   "cell_type": "code",
   "execution_count": 216,
   "id": "9c8abf56",
   "metadata": {},
   "outputs": [
    {
     "name": "stdout",
     "output_type": "stream",
     "text": [
      "[[ 1  2  3  4  5]\n",
      " [ 6  7  8  9 10]\n",
      " [11 12 13 14 15]]\n"
     ]
    }
   ],
   "source": [
    "print(A)"
   ]
  },
  {
   "cell_type": "code",
   "execution_count": 217,
   "id": "69415f7b",
   "metadata": {},
   "outputs": [
    {
     "data": {
      "text/plain": [
       "array([ 6,  7,  8,  9, 10])"
      ]
     },
     "execution_count": 217,
     "metadata": {},
     "output_type": "execute_result"
    }
   ],
   "source": [
    "A[1]"
   ]
  },
  {
   "cell_type": "markdown",
   "id": "6c53541b",
   "metadata": {},
   "source": [
    "**Answer:**"
   ]
  },
  {
   "cell_type": "code",
   "execution_count": 218,
   "id": "de01e120",
   "metadata": {},
   "outputs": [],
   "source": [
    "# When you provide fewer indicas then axes when slicing, you select all the elements along the unspecified axes. "
   ]
  },
  {
   "cell_type": "markdown",
   "id": "6652d0c9",
   "metadata": {},
   "source": [
    "### Iterating over multidimensional arrays is done with respect to the first axis, so in the example below we iterate trough the rows. If you would like to iterate through the array *elementwise*, how would you do that?"
   ]
  },
  {
   "cell_type": "code",
   "execution_count": 219,
   "id": "9459864f",
   "metadata": {},
   "outputs": [
    {
     "data": {
      "text/plain": [
       "array([[ 1,  2,  3,  4,  5],\n",
       "       [ 6,  7,  8,  9, 10],\n",
       "       [11, 12, 13, 14, 15]])"
      ]
     },
     "execution_count": 219,
     "metadata": {},
     "output_type": "execute_result"
    }
   ],
   "source": [
    "A"
   ]
  },
  {
   "cell_type": "code",
   "execution_count": 220,
   "id": "a671bb5a",
   "metadata": {},
   "outputs": [
    {
     "name": "stdout",
     "output_type": "stream",
     "text": [
      "[1 2 3 4 5]\n",
      "[ 6  7  8  9 10]\n",
      "[11 12 13 14 15]\n"
     ]
    }
   ],
   "source": [
    "for i in A:\n",
    "    print(i)"
   ]
  },
  {
   "cell_type": "code",
   "execution_count": 221,
   "id": "f4e443a0",
   "metadata": {},
   "outputs": [
    {
     "name": "stdout",
     "output_type": "stream",
     "text": [
      "\n",
      "Iterating elementwise with np.nditer():\n",
      "1\n",
      "2\n",
      "3\n",
      "4\n",
      "5\n",
      "6\n",
      "7\n",
      "8\n",
      "9\n",
      "10\n",
      "11\n",
      "12\n",
      "13\n",
      "14\n",
      "15\n"
     ]
    }
   ],
   "source": [
    "print(\"\\nIterating elementwise with np.nditer():\")\n",
    "for element in np.nditer(A):\n",
    "    print (element)\n",
    "    "
   ]
  },
  {
   "cell_type": "markdown",
   "id": "608a2583",
   "metadata": {},
   "source": [
    "### Explain what the code below does. More specifically, b has three axes - what does this mean? "
   ]
  },
  {
   "cell_type": "code",
   "execution_count": 222,
   "id": "f8f9b26f",
   "metadata": {},
   "outputs": [
    {
     "name": "stdout",
     "output_type": "stream",
     "text": [
      "[ 0  1  2  3  4  5  6  7  8  9 10 11 12 13 14 15 16 17 18 19 20 21 22 23\n",
      " 24 25 26 27 28 29]\n",
      "\n",
      "[[[ 0  1  2  3  4]\n",
      "  [ 5  6  7  8  9]\n",
      "  [10 11 12 13 14]]\n",
      "\n",
      " [[15 16 17 18 19]\n",
      "  [20 21 22 23 24]\n",
      "  [25 26 27 28 29]]]\n"
     ]
    }
   ],
   "source": [
    "a = np.arange(30)\n",
    "b = a.reshape((2, 3, -1))\n",
    "print(a)\n",
    "print()\n",
    "\n",
    "print(b)"
   ]
  },
  {
   "cell_type": "code",
   "execution_count": 223,
   "id": "863a45df",
   "metadata": {},
   "outputs": [],
   "source": [
    "# The code reshapes an 1D array into an 3D array with three axes\n"
   ]
  },
  {
   "cell_type": "markdown",
   "id": "ab5933d5",
   "metadata": {},
   "source": [
    "### Broadcasting\n",
    "**Read the following link about broadcasting: https://numpy.org/doc/stable/user/basics.broadcasting.html#basics-broadcasting**"
   ]
  },
  {
   "cell_type": "markdown",
   "id": "039805ba",
   "metadata": {},
   "source": [
    "# Remark on Broadcasting when doing Linear Algebra calculations in Python. "
   ]
  },
  {
   "cell_type": "markdown",
   "id": "c4bcc147",
   "metadata": {},
   "source": [
    "### From the mathematical rules of matrix addition, the operation below (m1 + m2) does not make sense. The reason is that matrix addition requires two matrices of the same size. In Python however, it works due to broadcasting rules in NumPy. So you must be careful when doing Linear Algebra calculations in Python since they do not follow the \"mathematical rules\". This can however easily be handled by doing some simple programming, for example validating that two matrices have the same shape is easy if you for instance want to add two matrices. "
   ]
  },
  {
   "cell_type": "code",
   "execution_count": 224,
   "id": "1fd46778",
   "metadata": {},
   "outputs": [
    {
     "name": "stdout",
     "output_type": "stream",
     "text": [
      "[[2 3]\n",
      " [4 5]]\n"
     ]
    }
   ],
   "source": [
    "m1 = np.array([[1, 2], [3, 4]])\n",
    "m2 = np.array([1, 1])\n",
    "print(m1 + m2)"
   ]
  },
  {
   "cell_type": "markdown",
   "id": "047d6576",
   "metadata": {},
   "source": [
    "### The example below would also not be allowed if following the \"mathematical rules\" in Linear Algebra. But it works due to broadcasting in NumPy. "
   ]
  },
  {
   "cell_type": "code",
   "execution_count": 225,
   "id": "5e6ef2e4",
   "metadata": {},
   "outputs": [
    {
     "name": "stdout",
     "output_type": "stream",
     "text": [
      "[2 3 4]\n"
     ]
    }
   ],
   "source": [
    "v1 = np.array([1, 2, 3])\n",
    "print(v1 + 1)"
   ]
  },
  {
   "cell_type": "code",
   "execution_count": 226,
   "id": "e2cbae26",
   "metadata": {},
   "outputs": [
    {
     "name": "stdout",
     "output_type": "stream",
     "text": [
      "[[1 2]\n",
      " [3 4]]\n",
      "[2 2]\n"
     ]
    }
   ],
   "source": [
    "A = np.arange(1, 5).reshape(2,2)\n",
    "print(A)\n",
    "\n",
    "b = np.array([2, 2])\n",
    "print(b)"
   ]
  },
  {
   "cell_type": "markdown",
   "id": "722fd5cd",
   "metadata": {},
   "source": [
    "# Vector- and matrix algebra Exercises"
   ]
  },
  {
   "cell_type": "markdown",
   "id": "b63a3081-d976-4d9f-bfd0-a63917e79f7d",
   "metadata": {},
   "source": [
    "**Now you are going to create a function that can be reused every time you add or multiply matrices. The function is created so that we do the addition and multiplication according to the rules of vector- and matrix algebra.**\n",
    "\n",
    "**Create a function \"add_mult_matrices\" that takes two matrices as input arguments (validate that the input are of the type numpy.ndarray by using the isinstance function), a third argument that is either 'add' or 'multiply' that specifies if you want to add or multiply the matrices (validate that the third argument is either 'add' or 'multiply'). When doing matrix addition, validate that the matrices have the same size. When doing matrix multiplication, validate that the sizes conform (i.e. number of columns in the first matrix is equal to the number of rows in the second matrix).**"
   ]
  },
  {
   "cell_type": "code",
   "execution_count": 227,
   "id": "3506f977-ac0a-473f-85bc-eec9f35dc498",
   "metadata": {},
   "outputs": [],
   "source": [
    "def add_mult_matrices(mat1, mat2, operation):\n",
    "    if not isinstance(mat1, np.ndarray) or not isintance(mat2, np.ndarray):\n",
    "        raise ValueError(\"both inputs must be of type numpy.ndarray\")\n",
    "    \n",
    "    if operation not in ['add', 'multiply']:\n",
    "        raise ValueError(\"Operation must be either 'add' or 'multiply'\")\n",
    "    \n",
    "    if operation == \"add\":\n",
    "        if mat1.shape != mat2.shape:\n",
    "            raise ValueError(\"Matrices must have the same sixe for addition\")\n",
    "        return mat1 + mat2\n",
    "    \n",
    "    elif operation == \"multuply\":\n",
    "        if mat1.shape[1] !=mat2.shape[0]:\n",
    "            raise ValueError(\"number of columns in the first matrix must equal the number of rows in the second matrix for multiplication\")\n",
    "        return mat1 @ mat2\n",
    "    "
   ]
  },
  {
   "cell_type": "markdown",
   "id": "8dad82d0-2359-4dff-8f5b-a57d3e34103c",
   "metadata": {},
   "source": [
    "### Solve all the exercises in chapter 10.1 in the book \"Matematik för yrkeshögskolan\". "
   ]
  },
  {
   "cell_type": "code",
   "execution_count": 228,
   "id": "89df88af-3668-4d98-a0a4-e6d92eea0f89",
   "metadata": {},
   "outputs": [
    {
     "name": "stdout",
     "output_type": "stream",
     "text": [
      "Svar uppgift 10.1.1\n",
      "\n",
      " (a) Dimension: 1\n",
      "\n",
      " (b) resultat av 5x: [20 15]\n",
      "\n",
      " (c) resultat av 3x: [12  9]\n",
      "\n",
      "(d) resultat av 5x + 3x: [32 24]\n",
      "\n",
      "(e) resultat av 8x: [32 24]\n",
      "\n",
      "(f) resultat av 4x - x: [12  9]\n",
      "\n",
      "(g) Transponent av x\n",
      "[[4]\n",
      " [3]]\n",
      "den nya dimensionen efter transponeringen är 2 × 1\n",
      "\n",
      "(h) x+x^T är inte definerat då dom har två olika dimensioner\n",
      "(i) ||x||: 5.0\n",
      "\n",
      "Svar uppgift 10.1.2\n",
      "(a)vektorn v har dimension 4\n",
      "\n",
      " (b) resultat av 2x: [[ 6]\n",
      " [14]\n",
      " [ 0]\n",
      " [22]]\n",
      "\n",
      "(c) resultat av 5v+2v: [[21]\n",
      " [49]\n",
      " [ 0]\n",
      " [77]]\n",
      "\n",
      "(d) resultat av 4v- 2v: [[ 6]\n",
      " [14]\n",
      " [ 0]\n",
      " [22]]\n",
      "\n",
      "(e) V^T = (3,7,0.11) pch har 1 dimension efter transponering\n",
      "(f) ||v||: 13.379088160259652\n",
      "\n",
      "svar till uppgift 10.1.3\n",
      "(a) ||v1||: 7.14142842854285\n",
      "(b) (||v1||-||v2||):\n"
     ]
    },
    {
     "data": {
      "text/plain": [
       "(None, 3.872983346207417)"
      ]
     },
     "execution_count": 228,
     "metadata": {},
     "output_type": "execute_result"
    }
   ],
   "source": [
    "x = np.array([4,3])\n",
    "dimension = x.ndim\n",
    "\n",
    "\n",
    "print (\"Svar uppgift 10.1.1\")\n",
    "\n",
    "print()\n",
    "\n",
    "print (\" (a) Dimension:\", dimension)\n",
    "\n",
    "print()\n",
    "\n",
    "resultat = 5*x\n",
    "\n",
    "print (\" (b) resultat av 5x:\", resultat)\n",
    "\n",
    "print()\n",
    "\n",
    "resultat = 3*x\n",
    "\n",
    "print (\" (c) resultat av 3x:\", resultat)\n",
    "\n",
    "print()\n",
    "\n",
    "resultat = 5*x + 3*x\n",
    "\n",
    "print (\"(d) resultat av 5x + 3x:\", resultat)\n",
    "\n",
    "print()\n",
    "\n",
    "resultat = 8*x\n",
    "\n",
    "print (\"(e) resultat av 8x:\", resultat)\n",
    "\n",
    "print()\n",
    "\n",
    "resultat = 4*x - x\n",
    "\n",
    "print (\"(f) resultat av 4x - x:\", resultat)\n",
    "\n",
    "print()\n",
    "\n",
    "x_transposed = x.T\n",
    "x_column_vector = x.reshape (-1,1)\n",
    "\n",
    "print (\"(g) Transponent av x\")\n",
    "print(x_column_vector)\n",
    "print (\"den nya dimensionen efter transponeringen är 2 × 1\")\n",
    "\n",
    "print()\n",
    "\n",
    "print (\"(h) x+x^T är inte definerat då dom har två olika dimensioner\")\n",
    "\n",
    "norm_x = np.linalg.norm(x)\n",
    "print (\"(i) ||x||:\", norm_x)\n",
    "\n",
    "print()\n",
    "\n",
    "print (\"Svar uppgift 10.1.2\")\n",
    "\n",
    "v = np.array([3,7,0,11]).reshape(-1,1)\n",
    "\n",
    "print (\"(a)vektorn v har dimension 4\")\n",
    "\n",
    "print()\n",
    "\n",
    "resultat = 2*v\n",
    "\n",
    "print (\" (b) resultat av 2x:\", resultat)\n",
    "\n",
    "print()\n",
    "\n",
    "resultat = 5*v+2*v\n",
    "\n",
    "print (\"(c) resultat av 5v+2v:\", resultat)\n",
    "\n",
    "print()\n",
    "\n",
    "resultat = 4*v - 2*v\n",
    "\n",
    "print (\"(d) resultat av 4v- 2v:\", resultat)\n",
    "\n",
    "print()\n",
    "\n",
    "v = np.array([3,7,0,11]).reshape(-1,1)\n",
    "print (\"(e) V^T = (3,7,0.11) pch har 1 dimension efter transponering\")\n",
    "\n",
    "norm_v = np.linalg.norm(v)\n",
    "print (\"(f) ||v||:\", norm_v)\n",
    "\n",
    "print()\n",
    "\n",
    "\n",
    "print(\"svar till uppgift 10.1.3\")\n",
    "\n",
    "v1 = np.array([4,3,1,5])\n",
    "v2 = np.array([2,3,1,1])\n",
    "\n",
    "norm_v1 = np.linalg.norm(v1)\n",
    "print (\"(a) ||v1||:\", norm_v1)\n",
    "\n",
    "norm_v2 = np.linalg.norm(v2)\n",
    "print (\"(b) (||v1||-||v2||):\"), norm_v2\n",
    "\n",
    "\n",
    "\n",
    "\n",
    "\n",
    "\n",
    "\n",
    "\n",
    "\n",
    "\n",
    "\n",
    "\n",
    "\n",
    "\n",
    "\n",
    "\n",
    "\n",
    "\n",
    "\n",
    "\n"
   ]
  },
  {
   "cell_type": "markdown",
   "id": "75c98984-1f88-4df1-b850-d2466de444a5",
   "metadata": {},
   "source": [
    "### Solve all the exercises, except 10.2.4, in chapter 10.2 in the book \"Matematik för yrkeshögskolan\". "
   ]
  },
  {
   "cell_type": "code",
   "execution_count": 229,
   "id": "65371610-16e1-48b2-b7fb-65e49002608a",
   "metadata": {},
   "outputs": [
    {
     "name": "stdout",
     "output_type": "stream",
     "text": [
      "a [[ 4  2 -2]\n",
      " [ 2 -2  2]]\n",
      "\n",
      "b [[ 0 -4  3]\n",
      " [ 0 -2 -4]]\n",
      "\n",
      "c är ej definerat\n",
      "\n",
      "d [[3 2]\n",
      " [2 3]]\n",
      "\n",
      "e [[ 9 12]\n",
      " [12  9]]\n",
      "\n",
      "f [[-4 -4]\n",
      " [-4 -4]]\n",
      "\n",
      "(g) är inte definerat\n",
      "\n",
      "(h) är inte definerat\n",
      "\n",
      "i [[11 10]\n",
      " [10 11]]\n",
      "\n",
      "k [[1 2]\n",
      " [2 1]]\n",
      "\n",
      "I [[5 2]\n",
      " [7 4]]\n",
      "\n",
      "lösning för uppgift 10.2.2\n",
      "[[29 26]\n",
      " [26 42]]\n",
      "\n",
      "lösning för uppgift 10.2.3\n",
      "(AB) [[ 4  7]\n",
      " [ 8 14]]\n",
      "vilket är samma som\n",
      "(AC) [[ 4  7]\n",
      " [ 8 14]]\n"
     ]
    }
   ],
   "source": [
    "import numpy as np\n",
    "\n",
    "matrix_A = np.array([[2, 1, -1],[1, -1, 1]])\n",
    "\n",
    "matrix_B = np.array([[4, -2, 1],[2, -4, -2]])\n",
    "\n",
    "matrix_C = np.array([[1, 2],[2, 1]])\n",
    "\n",
    "matrix_D = np.array([[3, 4],[4, 3]])\n",
    "\n",
    "matrix_E = np.array([[1],[2]])\n",
    "\n",
    "matrix_I = np.array([[1, 0],[0, 1]])\n",
    "\n",
    "resultat = 2*matrix_A\n",
    "print (\"a\", resultat)\n",
    "\n",
    "print()\n",
    "\n",
    "\n",
    "resultat = (matrix_B)-(2*matrix_A)\n",
    "print(\"b\", resultat)\n",
    "\n",
    "print()\n",
    "\n",
    "\n",
    "print(\"c är ej definerat\")\n",
    "\n",
    "print()\n",
    "\n",
    "resultat = (2*matrix_D)-(3*matrix_C)\n",
    "print(\"d\", resultat)\n",
    "\n",
    "print()\n",
    "\n",
    "transposed_D = matrix_D.T\n",
    "resultat = (transposed_D)+(2*matrix_D)\n",
    "print(\"e\", resultat)\n",
    "\n",
    "print()\n",
    "\n",
    "transposed_C = matrix_C.T\n",
    "resultat = (2*transposed_C)-(2*transposed_D)\n",
    "print(\"f\", resultat)\n",
    "\n",
    "print()\n",
    "\n",
    "print (\"(g) är inte definerat\")\n",
    "\n",
    "print()\n",
    "\n",
    "print (\"(h) är inte definerat\")\n",
    "\n",
    "print ()\n",
    "\n",
    "resultat = (matrix_D)@(matrix_C)\n",
    "print(\"i\", resultat)\n",
    "\n",
    "print()\n",
    "\n",
    "resultat = (matrix_I)@(matrix_C)\n",
    "print(\"k\", resultat)\n",
    "\n",
    "print()\n",
    "\n",
    "transposed_B=matrix_B.T\n",
    "\n",
    "resultat = (matrix_A)@(transposed_B)\n",
    "print(\"I\", resultat)\n",
    "\n",
    "print()\n",
    "\n",
    "print(\"lösning för uppgift 10.2.2\")\n",
    "\n",
    "matrix_A1 = np.array([[2, 3, 4],[5, 4, 1]])\n",
    "transposed_A1=matrix_A1.T\n",
    "\n",
    "resultat = (matrix_A1)@(transposed_A1)\n",
    "print(resultat)\n",
    "\n",
    "print()\n",
    "print(\"lösning för uppgift 10.2.3\")\n",
    "\n",
    "matrix_A = np.array([[1,2],[2,4]])\n",
    "matrix_B = np.array([[2,1], [1,3]])\n",
    "matrix_C = np.array([[4,3], [0,2]])\n",
    "\n",
    "resultat = (matrix_A)@(matrix_B)\n",
    "print(\"(AB)\", resultat)\n",
    "\n",
    "print(\"vilket är samma som\")\n",
    "\n",
    "resultat = (matrix_A)@(matrix_C)\n",
    "print(\"(AC)\", resultat)\n",
    "\n",
    "\n",
    "\n",
    "\n",
    "\n",
    "\n",
    "\n",
    "\n",
    "\n",
    "\n",
    "\n",
    "\n",
    "\n",
    "\n",
    "\n",
    "\n",
    "\n",
    "\n",
    "\n",
    "\n",
    "\n",
    "\n",
    "\n",
    "\n"
   ]
  },
  {
   "cell_type": "markdown",
   "id": "6a4a524f",
   "metadata": {},
   "source": [
    "### Copies and Views\n",
    "Read the following link: https://numpy.org/doc/stable/user/basics.copies.html"
   ]
  },
  {
   "cell_type": "markdown",
   "id": "6cbbeaf7",
   "metadata": {},
   "source": [
    "**Basic indexing creates a view, How can you check if v1 and v2 is a view or copy? If you change the last element in v2 to 123, will the last element in v1 be changed? Why?**"
   ]
  },
  {
   "cell_type": "code",
   "execution_count": 230,
   "id": "5b9ef4df",
   "metadata": {},
   "outputs": [
    {
     "name": "stdout",
     "output_type": "stream",
     "text": [
      "[0 1 2 3]\n",
      "[2 3]\n"
     ]
    }
   ],
   "source": [
    "v1 = np.arange(4)\n",
    "v2 = v1[-2:]\n",
    "print(v1)\n",
    "print(v2)"
   ]
  },
  {
   "cell_type": "code",
   "execution_count": 231,
   "id": "d2440489",
   "metadata": {},
   "outputs": [
    {
     "name": "stdout",
     "output_type": "stream",
     "text": [
      "None\n",
      "[0 1 2 3]\n",
      "Is v1 a view? False\n",
      "Is v2 a view? True\n"
     ]
    }
   ],
   "source": [
    "# The base attribute of a view returns the original array while it returns None for a copy.\n",
    "print(v1.base)\n",
    "print(v2.base)\n",
    "\n",
    "is_v1_view = v1.base is None\n",
    "is_v2_view = v2.base is not None\n",
    "\n",
    "print (\"Is v1 a view?\" , not is_v1_view)\n",
    "print(\"Is v2 a view?\", is_v2_view)\n"
   ]
  },
  {
   "cell_type": "code",
   "execution_count": 232,
   "id": "c8752807",
   "metadata": {},
   "outputs": [
    {
     "name": "stdout",
     "output_type": "stream",
     "text": [
      "[  0   1   2 123]\n",
      "[  2 123]\n"
     ]
    }
   ],
   "source": [
    "# The last element in v1 will be changed aswell since v2 is a view, meaning they share the same data buffer.\n",
    "v2[-1] = 123\n",
    "print(v1)\n",
    "print(v2)"
   ]
  },
  {
   "cell_type": "code",
   "execution_count": null,
   "id": "3dd68221",
   "metadata": {},
   "outputs": [],
   "source": []
  }
 ],
 "metadata": {
  "kernelspec": {
   "display_name": "Python 3 (ipykernel)",
   "language": "python",
   "name": "python3"
  },
  "language_info": {
   "codemirror_mode": {
    "name": "ipython",
    "version": 3
   },
   "file_extension": ".py",
   "mimetype": "text/x-python",
   "name": "python",
   "nbconvert_exporter": "python",
   "pygments_lexer": "ipython3",
   "version": "3.12.4"
  }
 },
 "nbformat": 4,
 "nbformat_minor": 5
}
